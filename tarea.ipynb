{
 "cells": [
  {
   "cell_type": "markdown",
   "id": "032c8fcc",
   "metadata": {},
   "source": [
    "# Tarea 1\n",
    "- Diccionario"
   ]
  },
  {
   "cell_type": "code",
   "execution_count": null,
   "id": "5342f6da",
   "metadata": {},
   "outputs": [],
   "source": [
    "# Registros de tareas con diccionarios\n",
    "# Crear un programa que gestione las tareas de una persona con la siguiente estructura\n",
    "#Tarea: Nombre de la tarea\n",
    "# estado: Pendiente, En curso, Finalizada\n",
    "#El programa debe permitir al usuario:\n",
    "#1. Agregar una tarea nueva.\n",
    "#2. Modificar el estado de una tarea.\n",
    "#3. Eliminar una tarea.\n",
    "#4. Mostrar todas las tareas y su estado.\n",
    "\n",
    "lista_de_estados = [\"pendiente\", \"en progreso\", \"finalizada\"]\n",
    "lista_de_opciones = [\"agregar\", \"modificar\", \"eliminar\", \"mostrar\", \"salir\"] \n",
    "\n",
    "diccionario_tareas = {\n",
    "    \"barrer\": [\n",
    "        {\"estado\": \"pendiente\"},\n",
    "    ],  \n",
    "    \"lavarplato\": [\n",
    "        {\"estado\": \"pendiente\"}\n",
    "    ]\n",
    "}\n",
    "\n",
    "# agregar unba nueva tarea junto con su estado\n",
    "def agregar_nueva_tarea():\n",
    "    print(\"Estas son todas las tareas que tienes\", list(diccionario_tareas.keys()))\n",
    "    estado = input(\"Ingrese el estado de la tarea: \")\n",
    "    if estado in lista_de_estados:\n",
    "        nombre_de_la_tarea = input(\"Ingrese el nombre de la tarea: \")\n",
    "        \n",
    "        if nombre_de_la_tarea in diccionario_tareas:\n",
    "            diccionario_tareas[nombre_de_la_tarea].append({\"estado\": estado})\n",
    "        else:\n",
    "            diccionario_tareas[nombre_de_la_tarea] = [{\"estado\": estado}]\n",
    "        \n",
    "        print(\"Tarea agregada con éxito\")\n",
    "        return diccionario_tareas\n",
    "    else:\n",
    "        print(\"Estado inválido\")\n",
    "\n",
    "\n",
    "# modificar el estado de una tarea\n",
    "def modificar_estado():\n",
    "     print(\"Estas son todas las tareas que tienes\", list(diccionario_tareas.keys()))\n",
    "     tarea = input(\"Ingrese el nombre de la tarea: \")\n",
    "     nuevo_estado = input(\"Ingrese el nuevo estado: \")\n",
    "     if nuevo_estado in lista_de_estados and tarea in diccionario_tareas:\n",
    "         diccionario_tareas[tarea][0][\"estado\"] = nuevo_estado\n",
    "         print(\"Estado modificado con éxito\")\n",
    "        \n",
    "     else:\n",
    "         print(\"Estado invalido\")\n",
    "         \n",
    "# eliminar una tarea\n",
    "def eliminar_tarea():\n",
    "    print(\"Estas son todas las tareas que tienes\", list(diccionario_tareas.keys()))\n",
    "    tarea = input(\"Ingrese el nombre de la tarea: \")\n",
    "    if tarea in diccionario_tareas:\n",
    "        del diccionario_tareas[tarea]\n",
    "        print(\"Tarea eliminada con exito\")\n",
    "        \n",
    "    else:\n",
    "        print(\"Tarea no encontrada\")\n",
    "\n",
    "# mostrar todas las tareas y su estado\n",
    "def mostrar_todas_las_tareas_y_sus_estados():\n",
    "    for tarea, estados in diccionario_tareas.items():\n",
    "        print(f\"Tarea: {tarea}\")\n",
    "        for estado in estados:\n",
    "            print(f\"Estado: {estado['estado']}\")\n",
    "    \n",
    "    \n",
    "# Bucle para llamar a las funciones\n",
    "while True:\n",
    "    print(f\"Opciones disponibles: {lista_de_opciones}\")\n",
    "    opcion_elegida = input(\"Elija una opcion: \")\n",
    "    if opcion_elegida == \"agregar\":\n",
    "        agregar_nueva_tarea()\n",
    "    elif opcion_elegida == \"modificar\":\n",
    "        modificar_estado()\n",
    "    elif opcion_elegida == \"eliminar\":\n",
    "        eliminar_tarea()\n",
    "    elif opcion_elegida == \"mostrar\":\n",
    "        mostrar_todas_las_tareas_y_sus_estados()\n",
    "    elif opcion_elegida == \"salir\":\n",
    "        break\n",
    "    else:\n",
    "        print(\"Opcion invalida\")\n",
    "        \n",
    "    "
   ]
  },
  {
   "cell_type": "markdown",
   "id": "55230d29",
   "metadata": {},
   "source": [
    "# Tarea 2\n",
    "\n",
    "### Adivinanza de numero"
   ]
  },
  {
   "cell_type": "code",
   "execution_count": null,
   "id": "e575cc4a",
   "metadata": {},
   "outputs": [],
   "source": [
    "# paso 1 crear contador de intentos\n",
    "intentos = 3\n",
    "\n",
    "# paso 2 crear numero a adivinar e ingresado\n",
    "numero_a_adivinar = 10\n",
    "\n",
    "\n",
    "# paso tres crear un bucle while\n",
    "while intentos > 0:\n",
    "    numero_ingresado = int(input(\"Ingrese un numero: \"))\n",
    "    if numero_ingresado  > numero_a_adivinar:\n",
    "        print(\"El numero ingresado es mayor que el numero secreto\")\n",
    "        intentos = intentos - 1\n",
    "        print(f\"Intentos restantes: {intentos}\")\n",
    "    elif numero_ingresado < numero_a_adivinar:\n",
    "        print(\"El numero ingresado es menor que el numero secreto\")\n",
    "        intentos = intentos - 1\n",
    "        print(f\"Intentos restantes: {intentos}\")\n",
    "    else:\n",
    "        print(\"Felicidades, has adivinado el numero!\")\n",
    "        break\n",
    "    \n",
    "if intentos == 0:\n",
    "    print(\"Lo siento, no has adivinado el numero\")"
   ]
  },
  {
   "cell_type": "markdown",
   "id": "e45604a6",
   "metadata": {},
   "source": [
    "# Tarea 3\n",
    "### crear clases animales"
   ]
  },
  {
   "cell_type": "code",
   "execution_count": 16,
   "id": "f71eb5e4",
   "metadata": {},
   "outputs": [
    {
     "name": "stdout",
     "output_type": "stream",
     "text": [
      "Hola soy Milo y tengo 5 años\n",
      "Hola soy Michi y tengo 3 años\n"
     ]
    }
   ],
   "source": [
    "# Crear la clase Animal\n",
    "class Animal:\n",
    "    ojos = 2\n",
    "    patas = 4\n",
    "    def __init__(self, nombre, edad):\n",
    "        self.nombre = nombre\n",
    "        self.edad = edad\n",
    "    def presentar(self):\n",
    "        print(f\"Hola soy {self.nombre} y tengo {self.edad} años\")\n",
    "\n",
    "# Crear clase perro\n",
    "class Perro(Animal):\n",
    "    cola= 1 \n",
    "    def presentar(self):\n",
    "        print(f\"Hola soy {self.nombre} y tengo {self.edad} años\")\n",
    "\n",
    "# Crear clase gato\n",
    "class Gato(Animal):\n",
    "    lengua = 1\n",
    "    def presentar(self):\n",
    "        print(f\"Hola soy {self.nombre} y tengo {self.edad} años\")\n",
    "\n",
    "# llamar a los metodos\n",
    "\n",
    "milo = Perro(\"Milo\", 5)\n",
    "milo.presentar()\n",
    "\n",
    "michi = Gato(\"Michi\", 3)\n",
    "michi.presentar()\n",
    "\n",
    "\n"
   ]
  },
  {
   "cell_type": "markdown",
   "id": "a354259a",
   "metadata": {},
   "source": [
    "# Tarea 4\n",
    "- Crear clases peluche"
   ]
  },
  {
   "cell_type": "code",
   "execution_count": 2,
   "id": "04bd946d",
   "metadata": {},
   "outputs": [
    {
     "name": "stdout",
     "output_type": "stream",
     "text": [
      "Es hora de abrazar a teddy, el peluche grande\n"
     ]
    }
   ],
   "source": [
    "class Peluche:\n",
    "    def __init__(self, nombre, tamaño):\n",
    "        self.nombre = nombre\n",
    "        self.tamaño = tamaño\n",
    "    def abrazar(self):\n",
    "        print(\"Abrazando...\")\n",
    "        \n",
    "        \n",
    "        \n",
    "class Teddy(Peluche):\n",
    "    def abrazar(self):\n",
    "        print(f\"Es hora de abrazar a {self.nombre}, el peluche {self.tamaño}\")\n",
    "\n",
    "peluche = Teddy(\"teddy\", \"grande\")\n",
    "peluche.abrazar()\n",
    "\n"
   ]
  },
  {
   "cell_type": "markdown",
   "id": "646b4bc2",
   "metadata": {},
   "source": [
    "# Tarea 5\n",
    "### multiplicar lista de numeros"
   ]
  },
  {
   "cell_type": "code",
   "execution_count": null,
   "id": "74f572bc",
   "metadata": {},
   "outputs": [
    {
     "data": {
      "text/plain": [
       "120"
      ]
     },
     "execution_count": 5,
     "metadata": {},
     "output_type": "execute_result"
    }
   ],
   "source": [
    "# Crear fncion con parametros numericos\n",
    "numeros=[1,2,3,4,5]\n",
    "\n",
    "def multiplicar_lista(lista_numeros):\n",
    "    resultado= 1 \n",
    "    for numero in lista_numeros:\n",
    "        resultado= resultado*numero\n",
    "    return resultado\n",
    "\n",
    "\n",
    "multiplicar_lista(numeros)\n",
    "    \n",
    "   \n",
    "\n",
    "\n"
   ]
  },
  {
   "cell_type": "markdown",
   "id": "f968ef5c",
   "metadata": {},
   "source": [
    "# Tarea 6 \n",
    "### Acumulador de numeros"
   ]
  },
  {
   "cell_type": "code",
   "execution_count": 14,
   "id": "3548bd5e",
   "metadata": {},
   "outputs": [
    {
     "name": "stdout",
     "output_type": "stream",
     "text": [
      "55\n"
     ]
    }
   ],
   "source": [
    "# Escribir la funcion acumulador\n",
    "\n",
    "def acumulador(numero):\n",
    "    suma = 0 \n",
    "    for i in range(1, numero + 1):\n",
    "        suma += i\n",
    "    return suma\n",
    "\n",
    "\n",
    "resultado_suma = acumulador(10)\n",
    "print(resultado_suma)\n",
    " "
   ]
  }
 ],
 "metadata": {
  "kernelspec": {
   "display_name": "Python 3",
   "language": "python",
   "name": "python3"
  },
  "language_info": {
   "codemirror_mode": {
    "name": "ipython",
    "version": 3
   },
   "file_extension": ".py",
   "mimetype": "text/x-python",
   "name": "python",
   "nbconvert_exporter": "python",
   "pygments_lexer": "ipython3",
   "version": "3.11.9"
  }
 },
 "nbformat": 4,
 "nbformat_minor": 5
}
