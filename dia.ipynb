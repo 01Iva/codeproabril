{
 "cells": [
  {
   "cell_type": "markdown",
   "id": "4f8bc4b9",
   "metadata": {},
   "source": [
    "# Python \n",
    "\n",
    "## Pensamiento computacional:\n",
    "\n",
    "Tomar un gran problema, separarlo por partes y solucionarlo en peque;os problemas\n",
    "\n",
    "\n",
    "Ejemplo de como armar un sandwich\n",
    "\n",
    "Materiales: un plato, dos trozos de pan, una feta de jamon, una feta de queso, manteca\n",
    "\n",
    "Poner el plato sobre la mesa\n",
    "\n",
    "Tomar la bolsa de pan \n",
    "\n",
    "Sacar dos trozos\n",
    "\n",
    "poner los trozos en el plato\n",
    "\n",
    "\n",
    "Similitudes y rutinas: detectarlas y optimizarlas\n",
    "\n",
    "Abstraccion: cuando tienes un problema, te concentras en la solucion\n",
    "\n",
    "Algoritmos: instrucciones claras que seguimos para solucionar un problema\n",
    "\n",
    "Aprender de los errores\n",
    "\n"
   ]
  },
  {
   "cell_type": "code",
   "execution_count": 1,
   "id": "68801725",
   "metadata": {},
   "outputs": [
    {
     "name": "stdout",
     "output_type": "stream",
     "text": [
      "Hola mundo\n"
     ]
    }
   ],
   "source": [
    "print(\"Hola mundo\")"
   ]
  },
  {
   "cell_type": "markdown",
   "id": "d83c6a64",
   "metadata": {},
   "source": [
    "## Variables\n",
    "Espacio en la memoria donde se almacenan datos"
   ]
  },
  {
   "cell_type": "code",
   "execution_count": 2,
   "id": "ac6a343f",
   "metadata": {},
   "outputs": [
    {
     "name": "stdout",
     "output_type": "stream",
     "text": [
      "Hola, mi nombre es Ivan y mi apellido es Mereles y tengo 24 años\n"
     ]
    }
   ],
   "source": [
    "nombre= 'Ivan'\n",
    "apellido= 'Mereles'\n",
    "edad= 24\n",
    "print('Hola, mi nombre es', nombre, 'y mi apellido es', apellido, 'y tengo', edad, 'años')"
   ]
  },
  {
   "cell_type": "code",
   "execution_count": 10,
   "id": "ce343b13",
   "metadata": {},
   "outputs": [
    {
     "name": "stdout",
     "output_type": "stream",
     "text": [
      "('mango', 'kiwi', 'banana', 'papaya', 'tomate')\n",
      "(4, 6, 8, 10, 12)\n",
      "('naranja', 'lima', 'pera', 'ananás', 'kiwi')\n"
     ]
    }
   ],
   "source": [
    "frutas=('mango','kiwi','banana','papaya','tomate')\n",
    "print(frutas)\n",
    "cantidad_de_frutas= 4, 6, 8, 10, 12\n",
    "print(cantidad_de_frutas)\n",
    "frutas= ('naranja','lima','pera','ananás','kiwi')\n",
    "print(frutas)"
   ]
  },
  {
   "cell_type": "markdown",
   "id": "0d6d3858",
   "metadata": {},
   "source": [
    "\n",
    "\n",
    "## Tipos de datos\n",
    "\n",
    "### Enteros\n",
    "\n",
    "- **Enteros positivos:** Números sin decimales mayores que cero.  \n",
    "  **Ejemplo:** `5`, `100`, `2023`\n",
    "\n",
    "- **Enteros negativos:** Números sin decimales menores que cero.  \n",
    "  **Ejemplo:** `-1`, `-50`, `-999`\n",
    "\n",
    "---\n",
    "\n",
    "### Decimales\n",
    "\n",
    "- **Decimales positivos:** Números con punto decimal mayores que cero.  \n",
    "  **Ejemplo:** `3.14`, `0.5`, `10.75`\n",
    "\n",
    "- **Decimales negativos:** Números con punto decimal menores que cero.  \n",
    "  **Ejemplo:** `-2.5`, `-0.1`, `-100.99`\n",
    "\n",
    "---\n",
    "\n",
    "### Cadenas de caracteres\n",
    "\n",
    "- **Cadenas de caracteres:** Secuencias de texto entre comillas. Se usan para representar palabras, frases, etc.  \n",
    "  **Ejemplo:** `\"hola\"`, `'Python'`, `\"123\"` (aunque parezca número, si está entre comillas es texto)\n",
    "\n",
    "---\n",
    "\n",
    "### Booleanos\n",
    "\n",
    "- **Booleanos:** Tipo de dato que representa solo dos valores: verdadero o falso.  \n",
    "  **Ejemplo:** `True`, `False`\n",
    "\n",
    "---\n",
    "\n",
    "### Listas\n",
    "\n",
    "- **Listas:** Conjunto de elementos ordenados y modificables, separados por comas y encerrados entre corchetes.  \n",
    "  **Ejemplo:** `[1, 2, 3]`, `[\"manzana\", \"banana\", \"pera\"]`\n",
    "\n",
    "---\n",
    "\n",
    "### Diccionarios\n",
    "\n",
    "- **Diccionarios:** Estructuras que almacenan pares clave-valor. Se definen con llaves `{}`.  \n",
    "  **Ejemplo:** `{\"nombre\": \"Ana\", \"edad\": 25}`, `{\"color\": \"rojo\", \"precio\": 10.5}`\n",
    "\n",
    "\n",
    "\n"
   ]
  },
  {
   "cell_type": "code",
   "execution_count": null,
   "id": "64edce7c",
   "metadata": {},
   "outputs": [],
   "source": [
    "numero= 145247\n",
    "numero_decimal= 1.54\n",
    "nombre= \"Ivan\"\n",
    "accion= \"el, 'amasa' la masa\"\n",
    "cajon_abierto= False"
   ]
  },
  {
   "cell_type": "markdown",
   "id": "b48a2f1a",
   "metadata": {},
   "source": [
    "## Operaciones aritméticas\n",
    "- Tambien se ouede realizar operaciones aritméticas con los números enteros.\n",
    "- Para realizar operaciones aritméticas se utiliza el operador `+` para sumar, `-` para restar, `*` para multiplicar y `/` para dividir.\n",
    "\n",
    "\n",
    "```python\n",
    "a = 10\n",
    "b = 20\n",
    "c = a + b\n",
    "print(c)\n",
    "```\n",
    "\n",
    "    "
   ]
  },
  {
   "cell_type": "code",
   "execution_count": 14,
   "id": "9d5e26ab",
   "metadata": {},
   "outputs": [
    {
     "name": "stdout",
     "output_type": "stream",
     "text": [
      "65000\n",
      "59000\n",
      "76000\n",
      "La cantidad que debe pagar por persona es de 3800\n"
     ]
    }
   ],
   "source": [
    "#suma\n",
    "precio_total= 50000 + 15000\n",
    "print(precio_total)\n",
    "\n",
    "#resta\n",
    "precio_descuento= precio_total - 6000\n",
    "print(precio_descuento)\n",
    "\n",
    "#multiplicacion , división y promedio\n",
    "precio_gaseosa= 19000\n",
    "cantidad_gaseosa= 4\n",
    "cantidad_personas= 20\n",
    "costo_total= precio_gaseosa * cantidad_gaseosa\n",
    "print(costo_total)\n",
    "promedio_por_persona= costo_total // cantidad_personas\n",
    "print('La cantidad que debe pagar por persona es de', promedio_por_persona)\n",
    "\n"
   ]
  },
  {
   "cell_type": "markdown",
   "id": "b9f10782",
   "metadata": {},
   "source": [
    "# Primer challenge\n",
    "\n",
    "## Challenge  1 🤺 \n",
    "\n",
    "Suma: asignar dos números en dos variables diferentes `cantidad_de_manzanas` y `cantidad_de_naranjas`. Luego sumar ambas variables en `cantidad_de_frutas`. Imprimir la última variable.\n",
    "\n",
    "Resta: asignar un valor numérico a la variable `frutas_vendidas`. Luego, asignar la resta entre `cantidad_de_frutas` y `frutas_vendidas` a la variable `frutas_restantes`. Imprimir la última variable.\n",
    "\n",
    "\n",
    "- Suma: debo establecer primero las dos variables y luego crear la tercera variable para imprimir\n",
    "- Resta hacer lo mismo pero con la resta"
   ]
  },
  {
   "cell_type": "code",
   "execution_count": 15,
   "id": "b63d9a7b",
   "metadata": {},
   "outputs": [
    {
     "name": "stdout",
     "output_type": "stream",
     "text": [
      "La cantidad de furtas es:  15\n",
      "La cantidad de frutas restantes es:  8\n"
     ]
    }
   ],
   "source": [
    "#suma de frutas\n",
    "cantidad_de_manzanas = 5\n",
    "cantidad_de_naranjas= 10\n",
    "cantidad_de_frutas = cantidad_de_naranjas + cantidad_de_manzanas\n",
    "print('La cantidad de furtas es: ',cantidad_de_frutas)\n",
    "\n",
    "#resta de frutas\n",
    "frutas_vendidas= 7\n",
    "frutas_restantes = cantidad_de_frutas - frutas_vendidas\n",
    "print('La cantidad de frutas restantes es: ',frutas_restantes)"
   ]
  },
  {
   "cell_type": "markdown",
   "id": "2c09b1a1",
   "metadata": {},
   "source": [
    "\n",
    "\n",
    "### 🔗 **Concatenados**\n",
    "\n",
    "**Definición:**  \n",
    "Concatenar significa unir dos o más cadenas de texto (strings) en una sola.\n",
    "\n",
    "---\n",
    "\n",
    "### 🧪 **Ejemplos:**\n",
    "\n",
    "```python\n",
    "# Usando el operador +\n",
    "texto1 = \"Hola\"\n",
    "texto2 = \"Mundo\"\n",
    "resultado = texto1 + \" \" + texto2\n",
    "print(resultado)  # Resultado: Hola Mundo\n",
    "\n",
    "# Concatenando con variables\n",
    "nombre = \"Ana\"\n",
    "saludo = \"Hola, \" + nombre\n",
    "print(saludo)  # Resultado: Hola, Ana\n",
    "\n",
    "# También se puede usar f-strings (en Python 3.6+)\n",
    "nombre = \"Luis\"\n",
    "saludo = f\"Hola, {nombre}\"\n",
    "print(saludo)  # Resultado: Hola, Luis\n",
    "```\n",
    "\n"
   ]
  },
  {
   "cell_type": "code",
   "execution_count": 17,
   "id": "a0fa0c6c",
   "metadata": {},
   "outputs": [
    {
     "name": "stdout",
     "output_type": "stream",
     "text": [
      "Ivan Perez\n",
      "Hola, mi nombre es Ivan Perez\n"
     ]
    }
   ],
   "source": [
    "nombre='Ivan'\n",
    "apellido='Perez'\n",
    "nombre_complito= nombre+' '+apellido\n",
    "print(nombre_complito)\n",
    "print('Hola, mi nombre es '+nombre_complito)"
   ]
  },
  {
   "cell_type": "markdown",
   "id": "92d9cd95",
   "metadata": {},
   "source": [
    "## Challenge 2 🤺 - 15m\n",
    "\n",
    "Asignar el nombre y el apellido de tu compañera/o a las variables nombre y apellido. Luego, imprimir una frase, utilizando las variables.\n",
    "EJEMPLO: \"Hola. Me llamo Claudia Melgarejo. Mucho gusto.\""
   ]
  },
  {
   "cell_type": "code",
   "execution_count": 21,
   "id": "083bd473",
   "metadata": {},
   "outputs": [
    {
     "name": "stdout",
     "output_type": "stream",
     "text": [
      "Hola me llamo  Elias Gonzalez Mucho gusto!\n"
     ]
    }
   ],
   "source": [
    "#Concatenacion\n",
    "nombre= 'Elias'\n",
    "apellido= 'Gonzalez'\n",
    "nombre_y_apellido= nombre+ ' '+ apellido\n",
    "print(\"Hola me llamo \",nombre_y_apellido, \"Mucho gusto!\")"
   ]
  },
  {
   "cell_type": "markdown",
   "id": "288befd8",
   "metadata": {},
   "source": [
    "\n",
    "\n",
    "### ⌨️ **Inputs**\n",
    "\n",
    "**Definición:**  \n",
    "Un *input* es una forma de pedir datos al usuario. Lo que el usuario escribe se puede guardar en una variable para usarlo después.\n",
    "\n",
    "---\n",
    "\n",
    "### 🧪 **Ejemplos (en Python):**\n",
    "\n",
    "```python\n",
    "# Pidiendo al usuario que ingrese su nombre\n",
    "nombre = input(\"¿Cómo te llamás? \")\n",
    "print(\"Hola, \" + nombre)\n",
    "\n",
    "# Solicitando un número y convirtiéndolo a entero\n",
    "edad = int(input(\"¿Cuántos años tenés? \"))\n",
    "print(f\"El año que viene tendrás {edad + 1} años.\")\n",
    "```\n",
    "\n",
    "> 🔸 `input()` siempre devuelve un **string**, así que si necesitás un número, hay que convertirlo con `int()` o `float()`.\n",
    "\n"
   ]
  },
  {
   "cell_type": "code",
   "execution_count": null,
   "id": "5d13e44e",
   "metadata": {},
   "outputs": [
    {
     "name": "stdout",
     "output_type": "stream",
     "text": [
      "Hola Ivan\n",
      "Tu suma es 74\n"
     ]
    }
   ],
   "source": [
    "#Concatenados enteros y suma\n",
    "nombre= input(\"Introduce tu nombre: \")\n",
    "print(\"Hola\",nombre)\n",
    "edad= int(input(\"Introduce tu edad: \"))\n",
    "edadpadre= int(input(\"Introduce tu padre: \"))\n",
    "suma= edad+edadpadre\n",
    "print(\"Tu suma es\",suma)"
   ]
  },
  {
   "cell_type": "markdown",
   "id": "991e71e9",
   "metadata": {},
   "source": [
    "### Challenge 🤺 - 10m\n",
    "\n",
    "Solicitar al usuario ingresar dos números y almacenarlos en dos variables. Luego, imprimir la suma de los dos números."
   ]
  },
  {
   "cell_type": "code",
   "execution_count": 26,
   "id": "47ca8600",
   "metadata": {},
   "outputs": [
    {
     "name": "stdout",
     "output_type": "stream",
     "text": [
      "La suma es 120\n"
     ]
    }
   ],
   "source": [
    "#solicitar las variables\n",
    "numero_1= int(input(\"Ingrese el primer numero: \"))\n",
    "numero_2= int(input(\"Ingrese el segundo numero: \"))\n",
    "\n",
    "#calcular la suma\n",
    "suma=numero_1+numero_2\n",
    "print(\"La suma es\",suma)"
   ]
  },
  {
   "cell_type": "markdown",
   "id": "e53d9aa0",
   "metadata": {},
   "source": [
    "\n",
    "\n",
    "### 🧩 **Funciones de Python**\n",
    "\n",
    "#### ✅ **Definición:**\n",
    "\n",
    "Una **función** es un bloque de código que se puede reutilizar. Se define una vez y se puede ejecutar (llamar) muchas veces. Sirve para organizar y evitar repetir código.\n",
    "\n",
    "---\n",
    "\n",
    "### 🧪 **Ejemplo básico:**\n",
    "\n",
    "```python\n",
    "# Definir una función\n",
    "def saludar():\n",
    "    print(\"Hola, bienvenido/a!\")\n",
    "\n",
    "# Llamar a la función\n",
    "saludar()\n",
    "```\n",
    "\n",
    "---\n",
    "\n",
    "### 🧪 **Ejemplo con parámetros:**\n",
    "\n",
    "```python\n",
    "# Función que recibe un nombre\n",
    "def saludar_persona(nombre):\n",
    "    print(f\"Hola, {nombre}!\")\n",
    "\n",
    "# Llamar a la función pasando un argumento\n",
    "saludar_persona(\"Carlos\")\n",
    "```\n",
    "\n",
    "---\n",
    "\n",
    "### 🧪 **Ejemplo que retorna un valor:**\n",
    "\n",
    "```python\n",
    "def sumar(a, b):\n",
    "    return a + b\n",
    "\n",
    "resultado = sumar(3, 5)\n",
    "print(\"La suma es:\", resultado)\n",
    "```\n",
    "\n",
    "> 🔸 Las funciones se definen con `def`, pueden recibir *parámetros* y pueden *retornar* valores con `return`.\n",
    "\n",
    "\n",
    "\n"
   ]
  },
  {
   "cell_type": "code",
   "execution_count": null,
   "id": "ce9dd7b2",
   "metadata": {},
   "outputs": [
    {
     "name": "stdout",
     "output_type": "stream",
     "text": [
      "Abrir el pan\n",
      "Agregar el queso\n",
      "Agregar el jamon\n",
      "Agregar el tomate\n",
      "Servir el pan\n"
     ]
    }
   ],
   "source": [
    "#definir funciones y llamarlas\n",
    "def preparar_sandwich():\n",
    "    print(\"Abrir el pan\")\n",
    "    print(\"Agregar el queso\")\n",
    "    print(\"Agregar el jamon\")\n",
    "    print(\"Agregar el tomate\")\n",
    "    print(\"Servir el pan\")\n",
    "    \n",
    "preparar_sandwich()\n"
   ]
  },
  {
   "cell_type": "markdown",
   "id": "984c6ae5",
   "metadata": {},
   "source": [
    "## Challenge 🤺 - 10m\n",
    "\n",
    "Crear una función de un proceso que se les ocurra que tenga varios pasos.\n",
    "Ejecutar la función 3 veces."
   ]
  },
  {
   "cell_type": "code",
   "execution_count": null,
   "id": "12433855",
   "metadata": {},
   "outputs": [],
   "source": [
    "#definir nuestra funcion para hervir el agua\n",
    "def herviragua_tutorial():\n",
    "    print(\"Agarrar la olla\")\n",
    "    print(\"llenar la olla de agua\")\n",
    "    print(\"poner la olla en la cocina\")\n",
    "    print(\"prender la cocina\")\n",
    "    print(\"esperar a que hierva\")\n",
    "    \n",
    "\n",
    "#llamar la funcion\n",
    "herviragua_tutorial()\n",
    "herviragua_tutorial()\n",
    "herviragua_tutorial()\n",
    "    \n",
    "    \n",
    "    \n",
    "\n"
   ]
  },
  {
   "cell_type": "markdown",
   "id": "ee7037a4",
   "metadata": {},
   "source": [
    "\n",
    "\n",
    "### 🎯 **Parámetros y Argumentos en Python**\n",
    "\n",
    "#### ✅ **Definición:**\n",
    "\n",
    "- **Parámetros**: son variables que se definen al **crear** una función. Actúan como “espacios en blanco” que se llenarán luego.\n",
    "- **Argumentos**: son los **valores reales** que se pasan cuando llamamos a la función.\n",
    "\n",
    "---\n",
    "\n",
    "### 🧪 **Ejemplo simple:**\n",
    "\n",
    "```python\n",
    "# Parámetro: nombre\n",
    "def saludar(nombre):\n",
    "    print(f\"Hola, {nombre}!\")\n",
    "\n",
    "# Argumento: \"Ana\"\n",
    "saludar(\"Ana\")  # Resultado: Hola, Ana!\n",
    "```\n",
    "\n",
    "---\n",
    "\n",
    "### 🧪 **Varios parámetros:**\n",
    "\n",
    "```python\n",
    "def sumar(a, b):\n",
    "    print(\"La suma es:\", a + b)\n",
    "\n",
    "sumar(3, 7)  # Resultado: La suma es: 10\n",
    "```\n",
    "\n",
    "---\n",
    "\n",
    "### 🧪 **Parámetros con valor por defecto:**\n",
    "\n",
    "```python\n",
    "def saludar(nombre=\"invitado\"):\n",
    "    print(f\"Hola, {nombre}!\")\n",
    "\n",
    "saludar()           # Resultado: Hola, invitado!\n",
    "saludar(\"Sofía\")    # Resultado: Hola, Sofía!\n",
    "```\n",
    "\n",
    "---\n",
    "\n",
    "> 🔸 Los **parámetros** se definen en la función.  \n",
    "> 🔸 Los **argumentos** se pasan cuando se llama la función.  \n",
    "> 🔸 Si no se pasa un argumento, y hay un valor por defecto, se usa ese valor.\n",
    "\n",
    "\n",
    "\n"
   ]
  },
  {
   "cell_type": "code",
   "execution_count": null,
   "id": "3056da6b",
   "metadata": {},
   "outputs": [
    {
     "name": "stdout",
     "output_type": "stream",
     "text": [
      "Abrir el pan\n",
      "Agregar el queso\n",
      "Agregar el jamon\n",
      "Agregar el tomate\n",
      "Agregar el huevo\n",
      "Servir el pan\n"
     ]
    }
   ],
   "source": [
    "# preparar los parametros y los argumentos\n",
    "def preparar_sandwich(ingredientes):\n",
    "    print(\"Abrir el pan\")\n",
    "    print(\"Agregar el queso\")\n",
    "    print(\"Agregar el jamon\")\n",
    "    print(\"Agregar el tomate\")\n",
    "    print(\"Agregar el\"+ \" \"+ ingredientes)\n",
    "    print(\"Servir el pan\")\n",
    "\n",
    "preparar_sandwich(\"huevo\")"
   ]
  },
  {
   "cell_type": "markdown",
   "id": "818faae1",
   "metadata": {},
   "source": [
    "## Challenge 🤺 - 15m\n",
    "\n",
    "Escribir una funcion que nos pregunte las caracteriticas de un elemento a comprar e imprima el elemento con sus caracteristicas."
   ]
  },
  {
   "cell_type": "code",
   "execution_count": null,
   "id": "f2497f19",
   "metadata": {},
   "outputs": [
    {
     "name": "stdout",
     "output_type": "stream",
     "text": [
      "Comprar la tele de 100\n",
      "de definicion 4k\n",
      "con marca Samsung\n"
     ]
    }
   ],
   "source": [
    "#crear la funcion para comprar la tele\n",
    "def caracterizticas_tele(pulgadas, definicion, marca):\n",
    "    print(\"Comprar la tele de\"+ \" \"+ pulgadas)\n",
    "    print(\"de definicion \"+ definicion)\n",
    "    print(\"con marca \"+ marca)\n",
    "\n",
    "caracterizticas_tele(\"100\", \"4k\", \"Samsung\")"
   ]
  },
  {
   "cell_type": "code",
   "execution_count": 46,
   "id": "6235ccfd",
   "metadata": {},
   "outputs": [
    {
     "name": "stdout",
     "output_type": "stream",
     "text": [
      "Comprar la tele de 100\n",
      "de definicion 4k\n",
      "con marca Samsung\n"
     ]
    }
   ],
   "source": [
    "#con entero\n",
    "def caracterizticas_tele(pulgadas, definicion, marca):\n",
    "    print(\"Comprar la tele de \" + str(pulgadas))\n",
    "    print(\"de definicion \" + definicion)\n",
    "    print(\"con marca \" + marca)\n",
    "\n",
    "caracterizticas_tele(100, \"4k\", \"Samsung\")  # Ahora 100 es un entero\n"
   ]
  },
  {
   "cell_type": "markdown",
   "id": "7996844e",
   "metadata": {},
   "source": [
    "\n",
    "\n",
    "## 🌍 Límites y Alcances de Variables (Local y Global) en Python\n",
    "\n",
    "### ✅ **¿Qué es el alcance (scope)?**\n",
    "\n",
    "El *scope* (alcance) define **dónde** una variable puede ser usada en el código.\n",
    "\n",
    "---\n",
    "\n",
    "### 🔹 **Variables Globales**\n",
    "\n",
    "- Se definen **fuera** de cualquier función.\n",
    "- Se pueden usar en todo el programa.\n",
    "- Para modificarlas **dentro** de una función, se debe usar la palabra clave `global`.\n",
    "\n",
    "#### Ejemplo:\n",
    "\n",
    "```python\n",
    "mensaje = \"Hola desde el mundo global\"  # Variable global\n",
    "\n",
    "def saludar():\n",
    "    print(mensaje)  # Puede acceder a la variable global\n",
    "\n",
    "saludar()\n",
    "print(mensaje)\n",
    "```\n",
    "\n",
    "---\n",
    "\n",
    "### 🔹 **Variables Locales**\n",
    "\n",
    "- Se definen **dentro** de una función.\n",
    "- Solo existen y se usan dentro de esa función.\n",
    "\n",
    "#### Ejemplo:\n",
    "\n",
    "```python\n",
    "def saludar():\n",
    "    saludo = \"Hola desde la función\"  # Variable local\n",
    "    print(saludo)\n",
    "\n",
    "saludar()\n",
    "# print(saludo)  ❌ Esto da error, porque 'saludo' no existe fuera de la función\n",
    "```\n",
    "\n",
    "---\n",
    "\n",
    "### 🛠️ **Modificar una variable global desde dentro de una función**\n",
    "\n",
    "```python\n",
    "contador = 0  # Variable global\n",
    "\n",
    "def incrementar():\n",
    "    global contador\n",
    "    contador += 1\n",
    "\n",
    "incrementar()\n",
    "print(contador)  # Resultado: 1\n",
    "```\n",
    "\n",
    "---\n",
    "\n",
    "### 🧠 Resumen:\n",
    "\n",
    "| Tipo de Variable | Dónde se declara         | Dónde se puede usar        |\n",
    "|------------------|--------------------------|-----------------------------|\n",
    "| Global           | Fuera de cualquier función | En todo el programa         |\n",
    "| Local            | Dentro de una función     | Solo dentro de esa función  |\n",
    "\n",
    "---\n",
    "\n"
   ]
  },
  {
   "cell_type": "code",
   "execution_count": 48,
   "id": "81d7f111",
   "metadata": {},
   "outputs": [
    {
     "name": "stdout",
     "output_type": "stream",
     "text": [
      "Estoy Preparando comida con carne\n"
     ]
    }
   ],
   "source": [
    "def preparar_comida():\n",
    "    ingredientes= \"carne\"\n",
    "    print(f\"Estoy Preparando comida con {ingredientes}\")\n",
    "\n",
    "preparar_comida()"
   ]
  }
 ],
 "metadata": {
  "kernelspec": {
   "display_name": "Python 3",
   "language": "python",
   "name": "python3"
  },
  "language_info": {
   "codemirror_mode": {
    "name": "ipython",
    "version": 3
   },
   "file_extension": ".py",
   "mimetype": "text/x-python",
   "name": "python",
   "nbconvert_exporter": "python",
   "pygments_lexer": "ipython3",
   "version": "3.11.9"
  }
 },
 "nbformat": 4,
 "nbformat_minor": 5
}
