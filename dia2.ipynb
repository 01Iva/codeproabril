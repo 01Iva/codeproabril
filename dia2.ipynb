{
 "cells": [
  {
   "cell_type": "markdown",
   "id": "379029ef",
   "metadata": {},
   "source": [
    "# Dia 2 de programacion y ejercicios\n",
    "\n",
    "## Repaso de funciones con argumentos y parametros\n",
    "\n",
    "- Las variables en funciones son locales "
   ]
  },
  {
   "cell_type": "code",
   "execution_count": null,
   "id": "cdf334a7",
   "metadata": {},
   "outputs": [],
   "source": [
    "#Ejemplo\n",
    "def  saludo_bienvenida(nombre):\n",
    "    print(f\"Hola {nombre}\")\n",
    "    print(\"Bienvenido a mi programa\")\n",
    "\n",
    "saludo_bienvenida(\"Ivan\")"
   ]
  },
  {
   "cell_type": "code",
   "execution_count": 3,
   "id": "d3880a2a",
   "metadata": {},
   "outputs": [
    {
     "name": "stdout",
     "output_type": "stream",
     "text": [
      "Hola Ivan, un gusto conocerte!\n"
     ]
    }
   ],
   "source": [
    "#ejemplo 2\n",
    "nombre= input(\"Ingrese su nombre\")\n",
    "def ingresar_nombre(nombre):\n",
    "    print(f\"Hola {nombre}, un gusto conocerte!\")\n",
    "\n",
    "ingresar_nombre(nombre)"
   ]
  },
  {
   "cell_type": "markdown",
   "id": "c581930e",
   "metadata": {},
   "source": [
    "\n",
    "\n",
    "## ⚙️ **Condicionales en Python**\n",
    "\n",
    "Los condicionales permiten que el programa tome **decisiones**, ejecutando bloques de código **según se cumpla o no una condición**.\n",
    "\n",
    "---\n",
    "\n",
    "### ✅ **`if` (si)**\n",
    "\n",
    "```python\n",
    "edad = 18\n",
    "\n",
    "if edad >= 18:\n",
    "    print(\"Sos mayor de edad\")\n",
    "```\n",
    "\n",
    "---\n",
    "\n",
    "### ✅ **`if` + `else` (si... sino)**\n",
    "\n",
    "```python\n",
    "edad = 16\n",
    "\n",
    "if edad >= 18:\n",
    "    print(\"Sos mayor de edad\")\n",
    "else:\n",
    "    print(\"Sos menor de edad\")\n",
    "```\n",
    "\n",
    "---\n",
    "\n",
    "### ✅ **`if` + `elif` + `else` (si... sino si... sino)**\n",
    "\n",
    "```python\n",
    "nota = 85\n",
    "\n",
    "if nota >= 90:\n",
    "    print(\"Excelente\")\n",
    "elif nota >= 70:\n",
    "    print(\"Bueno\")\n",
    "else:\n",
    "    print(\"Necesita mejorar\")\n",
    "```\n",
    "\n",
    "---\n",
    "\n",
    "### ✅ **Condiciones con operadores lógicos**\n",
    "\n",
    "```python\n",
    "edad = 25\n",
    "es_estudiante = True\n",
    "\n",
    "if edad < 30 and es_estudiante:\n",
    "    print(\"Es joven y estudiante\")\n",
    "```\n",
    "\n",
    "---\n",
    "\n",
    "### ✅ **Condición en una sola línea (if inline)**\n",
    "\n",
    "```python\n",
    "es_mayor = True\n",
    "print(\"Acceso permitido\") if es_mayor else print(\"Acceso denegado\")\n",
    "```\n",
    "\n",
    "---\n",
    "\n",
    "### 🔍 **Resumen de operadores de comparación**\n",
    "\n",
    "| Operador | Significado       | Ejemplo           |\n",
    "|----------|-------------------|-------------------|\n",
    "| `==`     | Igual a            | `a == b`          |\n",
    "| `!=`     | Distinto de        | `a != b`          |\n",
    "| `>`      | Mayor que          | `a > b`           |\n",
    "| `<`      | Menor que          | `a < b`           |\n",
    "| `>=`     | Mayor o igual que  | `a >= b`          |\n",
    "| `<=`     | Menor o igual que  | `a <= b`          |\n",
    "\n"
   ]
  },
  {
   "cell_type": "code",
   "execution_count": 5,
   "id": "6222ecd8",
   "metadata": {},
   "outputs": [
    {
     "name": "stdout",
     "output_type": "stream",
     "text": [
      "Debes ser mayor de edad para poder entrenar\n"
     ]
    }
   ],
   "source": [
    "#Ejemplo 1\n",
    "edad = int(input(\"Ingrese su edad: \"))\n",
    "\n",
    "if edad < 18:\n",
    "    print(\"Debes ser mayor de edad para poder entrenar\")\n",
    "else:\n",
    "    print(\"Bienvenido kp, podes pasar\")"
   ]
  },
  {
   "cell_type": "code",
   "execution_count": 7,
   "id": "d51e8087",
   "metadata": {},
   "outputs": [
    {
     "name": "stdout",
     "output_type": "stream",
     "text": [
      "No puedes pasar, te quedan solo 1200000 guaranies\n"
     ]
    }
   ],
   "source": [
    "#Ejemplo 2\n",
    "plata= int(input(\"Necesitas 1200000 guaranies para entrar en la discoteca. Ingresa tu plata: \"))\n",
    "\n",
    "if plata >= 1200000:\n",
    "    print(\"Podes pasar, bienvenido a la discoteca!\")\n",
    "    \n",
    "else:\n",
    "    print(\"No puedes pasar, te quedan menos de 1200000 guaranies\")"
   ]
  },
  {
   "cell_type": "markdown",
   "id": "f1a9d172",
   "metadata": {},
   "source": [
    "## Challenge🤺 - 20m\n",
    "\n",
    "Escribe un programa que pregunte al usuario por su edad y determine si tiene edad suficiente para comprar y consumir alcohol.\n",
    "- Si el usuario tiene mas de 18 pero menos de 21 impirmir \"Podes tomar pero no comprar\"\n",
    "- Si el usuario tiene menos de 18 imprimir \"Juguito nomas\"\n",
    "- Si el usuario tiene mas de 21 imprimir \"Hace lo que quieras\""
   ]
  },
  {
   "cell_type": "code",
   "execution_count": 22,
   "id": "38ba5cd5",
   "metadata": {},
   "outputs": [
    {
     "name": "stdout",
     "output_type": "stream",
     "text": [
      "Podes tomar pero no comprar\n"
     ]
    }
   ],
   "source": [
    "# Preguntar si edad es menor que 18, luego preguntar si la edad es mayor que 18 pero menor que 21 \n",
    "# y luego preguntar si la edad es mayor o igual que 21\n",
    "edad = int(input(\"Ingrese su edad: \"))\n",
    "\n",
    "if edad < 18:\n",
    "    print(\"Juguito nomás\")\n",
    "elif 18 <= edad < 21:\n",
    "    print(\"Podes tomar pero no comprar\")\n",
    "elif edad > 21:\n",
    "    print(\"Hace lo que quieras\")\n"
   ]
  },
  {
   "cell_type": "markdown",
   "id": "d91b3239",
   "metadata": {},
   "source": [
    "\n",
    "\n",
    "## 🔗 **Operadores Lógicos en Python**\n",
    "\n",
    "Los **operadores lógicos** permiten combinar condiciones o hacer evaluaciones más complejas. Devuelven un resultado **booleano**: `True` o `False`.\n",
    "\n",
    "---\n",
    "\n",
    "### ✅ **Operadores lógicos principales**\n",
    "\n",
    "| Operador | Significado                   | Ejemplo                 |\n",
    "|----------|-------------------------------|--------------------------|\n",
    "| `and`    | **Y** (ambas condiciones ciertas) | `True and True` → `True` |\n",
    "| `or`     | **O** (al menos una cierta)       | `True or False` → `True` |\n",
    "| `not`    | **No** (niega la condición)       | `not True` → `False`     |\n",
    "\n",
    "---\n",
    "\n",
    "### 🔹 **Ejemplo con `and`**\n",
    "\n",
    "```python\n",
    "edad = 20\n",
    "es_estudiante = True\n",
    "\n",
    "if edad >= 18 and es_estudiante:\n",
    "    print(\"Es mayor de edad y estudiante\")\n",
    "```\n",
    "\n",
    "✅ Se cumple solo si **ambas condiciones** son verdaderas.\n",
    "\n",
    "---\n",
    "\n",
    "### 🔹 **Ejemplo con `or`**\n",
    "\n",
    "```python\n",
    "tiene_dni = False\n",
    "tiene_pasaporte = True\n",
    "\n",
    "if tiene_dni or tiene_pasaporte:\n",
    "    print(\"Puede ingresar al país\")\n",
    "```\n",
    "\n",
    "✅ Se cumple si **al menos una** es verdadera.\n",
    "\n",
    "---\n",
    "\n",
    "### 🔹 **Ejemplo con `not`**\n",
    "\n",
    "```python\n",
    "es_mayor = False\n",
    "\n",
    "if not es_mayor:\n",
    "    print(\"Es menor de edad\")\n",
    "```\n",
    "\n",
    "✅ `not` invierte el valor lógico: `not False` es `True`.\n",
    "\n",
    "---\n",
    "\n",
    "### 🧠 ¿Dónde se usan?\n",
    "\n",
    "Los operadores lógicos se usan muchísimo en:\n",
    "\n",
    "- Validaciones de formularios\n",
    "- Reglas de negocio\n",
    "- Condicionales complejos\n",
    "- Búsquedas, permisos, etc.\n",
    "\n"
   ]
  },
  {
   "cell_type": "code",
   "execution_count": 40,
   "id": "3290d824",
   "metadata": {},
   "outputs": [
    {
     "name": "stdout",
     "output_type": "stream",
     "text": [
      "Persona inactiva laboralmente\n"
     ]
    }
   ],
   "source": [
    "#ejemplo 1 \n",
    "edad_persona= 60\n",
    "trabajando= False\n",
    "\n",
    "if edad_persona < 18:\n",
    "    print(\"Estudiante\")\n",
    "elif edad_persona < 65 and trabajando == True:\n",
    "    print(\"Persona activa laboralmente\")\n",
    "elif edad_persona < 65 and trabajando == False:\n",
    "    print(\"Persona inactiva laboralmente\")\n",
    "else:\n",
    "    print(\"jubilado\")"
   ]
  },
  {
   "cell_type": "markdown",
   "id": "99ba4ae6",
   "metadata": {},
   "source": [
    "### Challenge 🤺 - 30m\n",
    "\n",
    "Escribir un programa en el que se pregunte al usuario por una temperatura (en grados Celsius), imprima la temperatura escrita, y luego clasificar la temperatura ingresada en los siguientes niveles:\n",
    "\n",
    "Entre -10 y 18 grados, que imprima \"Fresquete\".\n",
    "Entre 19 y 30 grados, que imprima \"Calor'i\".\n",
    "Entre 31 y 45 grados, que imprima \"Hakuuuuuu\".\n",
    "Para todo lo demás, imprimir \"Ñamano mba'e!\"."
   ]
  },
  {
   "cell_type": "code",
   "execution_count": 35,
   "id": "658d8fb2",
   "metadata": {},
   "outputs": [
    {
     "name": "stdout",
     "output_type": "stream",
     "text": [
      "Ñamano mba'e!\n"
     ]
    }
   ],
   "source": [
    "# Pedir la temperatura con un  imput, crear la variable booleana ya sea true o flase\n",
    "# Crear los limites de la temperatura entre los grados que me pide el ejercicio\n",
    "# Usar and para la clasificacion y designar True o False\n",
    "# Usar elif para la clasificacion\n",
    "temperatura= int(input(\"Ingrese la temperatura en grados Celsius: \"))\n",
    "clasificacion= True\n",
    "\n",
    "if -10 <= temperatura <= 18 and clasificacion == True:\n",
    "    print(\"Fresquete\")\n",
    "elif 19 <= temperatura <= 30 and clasificacion == True:\n",
    "    print(\"Calor\")\n",
    "elif 31 <= temperatura <= 45 and clasificacion == True:\n",
    "    print(\"Hakuuuuuu\")\n",
    "else:\n",
    "    print(\"Ñamano mba'e!\")\n",
    "    "
   ]
  },
  {
   "cell_type": "code",
   "execution_count": 42,
   "id": "2168f3f7",
   "metadata": {},
   "outputs": [
    {
     "name": "stdout",
     "output_type": "stream",
     "text": [
      "Ñamano mba'e!\n"
     ]
    }
   ],
   "source": [
    "# otra forma\n",
    "\n",
    "temperatura = int(input(\"Ingrese la temperatura en grados Celsius: \"))\n",
    "\n",
    "if -10 <= temperatura <= 18:\n",
    "    print(\"Fresquete\")\n",
    "elif 19 <= temperatura <= 30:\n",
    "    print(\"Calor'i\")\n",
    "elif 31 <= temperatura <= 45:\n",
    "    print(\"Hakuuuuuu\")\n",
    "else:\n",
    "    print(\"Ñamano mba'e!\")\n"
   ]
  },
  {
   "cell_type": "markdown",
   "id": "6154edd3",
   "metadata": {},
   "source": [
    "\n",
    "\n",
    "## 🔁 **Bucles en Python**\n",
    "\n",
    "### 📘 **Definición:**\n",
    "\n",
    "Los **bucles** (o ciclos) permiten ejecutar un bloque de código **varias veces** de forma automática, sin tener que escribirlo repetidamente. Se usan para recorrer listas, repetir tareas o iterar hasta que se cumpla una condición.\n",
    "\n",
    "---\n",
    "\n",
    "## 🔄 Tipos de bucles\n",
    "\n",
    "### 1. **`for` loop** – Recorre elementos de una secuencia (lista, string, rango, etc.)\n",
    "\n",
    "#### ✅ Ejemplo simple con `for`:\n",
    "\n",
    "```python\n",
    "frutas = [\"manzana\", \"banana\", \"pera\"]\n",
    "\n",
    "for fruta in frutas:\n",
    "    print(\"Me gusta la\", fruta)\n",
    "```\n",
    "\n",
    "#### ✅ Con `range()`:\n",
    "\n",
    "```python\n",
    "for i in range(5):\n",
    "    print(\"Número:\", i)\n",
    "```\n",
    "\n",
    "🔹 `range(5)` genera los números del 0 al 4.\n",
    "\n",
    "---\n",
    "\n",
    "### 2. **`while` loop** – Ejecuta el bloque **mientras se cumpla una condición**\n",
    "\n",
    "#### ✅ Ejemplo con `while`:\n",
    "\n",
    "```python\n",
    "contador = 0\n",
    "\n",
    "while contador < 3:\n",
    "    print(\"Contador:\", contador)\n",
    "    contador += 1\n",
    "```\n",
    "\n",
    "---\n",
    "\n",
    "## 🔚 Salir de un bucle\n",
    "\n",
    "- **`break`**: corta el bucle antes de que termine\n",
    "- **`continue`**: salta a la siguiente iteración\n",
    "\n",
    "#### 🛑 Ejemplo con `break`:\n",
    "\n",
    "```python\n",
    "for i in range(10):\n",
    "    if i == 5:\n",
    "        break\n",
    "    print(i)\n",
    "```\n",
    "\n",
    "#### ↪️ Ejemplo con `continue`:\n",
    "\n",
    "```python\n",
    "for i in range(5):\n",
    "    if i == 2:\n",
    "        continue\n",
    "    print(i)\n"
   ]
  },
  {
   "cell_type": "code",
   "execution_count": 44,
   "id": "b0280d70",
   "metadata": {},
   "outputs": [
    {
     "name": "stdout",
     "output_type": "stream",
     "text": [
      "El numero es 10\n",
      "Numero correcto\n"
     ]
    }
   ],
   "source": [
    "# Bucle while\n",
    "numero_a_adivinar= 10\n",
    "numero= 3\n",
    "while numero != numero_a_adivinar:\n",
    "   numero= int(input(\"Dime un numero: \"))\n",
    "   print(f\"El numero es {numero}\")\n",
    "   \n",
    "print(\"Numero correcto\")"
   ]
  },
  {
   "cell_type": "code",
   "execution_count": null,
   "id": "9d38c3fc",
   "metadata": {},
   "outputs": [],
   "source": [
    "while True:\n",
    "    numero_ingresado = int(input(\"Ingrese un numero: \"))\n",
    "    if numero_ingresado == numero:\n",
    "        print(\"El numero es correcto\")\n",
    "        break\n",
    "    else:\n",
    "        print(\"El numero es incorrecto\")    "
   ]
  },
  {
   "cell_type": "markdown",
   "id": "a8745126",
   "metadata": {},
   "source": [
    "### Challenge 🤺 - 20m\n",
    "Escribir un programa que almacene una contraseña en una variable, y pregunte al usuario por la contraseña hasta que introduzca la contraseña correcta.\n",
    "\n",
    "Cuando el usuario ingrese la contrasena correcta, imprimir un mensaje secreto.\n"
   ]
  },
  {
   "cell_type": "code",
   "execution_count": 46,
   "id": "ee4dcedf",
   "metadata": {},
   "outputs": [
    {
     "name": "stdout",
     "output_type": "stream",
     "text": [
      "Contraseña incorrecta\n",
      "Contraseña correcta\n"
     ]
    }
   ],
   "source": [
    "# Paso 1: crear una variable para mi contraseña\n",
    "# Paso 2: crear un bucle que pregunte por la contraseña\n",
    "# Paso 3: comparar la contraseña ingresada con la contraseña correcta\n",
    "# Paso 4: si la contraseña es correcta, salir del bucle\n",
    "contraseña_correcta= \"1234\"\n",
    "while True:\n",
    "    contraseña_ingresada= input(\"Ingrese contraseña: \")\n",
    "    if contraseña_ingresada == contraseña_correcta:\n",
    "        print(\"Contraseña correcta, bienvenido al sistema\")\n",
    "        break\n",
    "    else:\n",
    "        print(\"Contraseña incorrecta\")"
   ]
  },
  {
   "cell_type": "markdown",
   "id": "5a53666d",
   "metadata": {},
   "source": [
    "\n",
    "\n",
    "## 🔢 **Listas en Python**\n",
    "\n",
    "### 📘 **Definición:**\n",
    "Una **lista** es una colección ordenada y **mutable** (se puede cambiar) de elementos. Puede contener cualquier tipo de dato: números, cadenas, booleanos, otras listas, etc.\n",
    "\n",
    "Se escribe entre **corchetes `[]`** y los elementos se separan con comas.\n",
    "\n",
    "---\n",
    "\n",
    "### ✅ **Ejemplos básicos:**\n",
    "\n",
    "```python\n",
    "# Lista de números\n",
    "numeros = [1, 2, 3, 4, 5]\n",
    "\n",
    "# Lista de cadenas\n",
    "frutas = [\"manzana\", \"banana\", \"pera\"]\n",
    "\n",
    "# Lista mezclada\n",
    "mezcla = [True, \"hola\", 3.14, 7]\n",
    "```\n",
    "\n",
    "---\n",
    "\n",
    "### 🔍 **Acceder a elementos:**\n",
    "\n",
    "```python\n",
    "print(frutas[0])  # Imprime: manzana\n",
    "print(numeros[2]) # Imprime: 3\n",
    "```\n",
    "\n",
    "---\n",
    "\n",
    "### 🔁 **Recorrer una lista con for:**\n",
    "\n",
    "```python\n",
    "for fruta in frutas:\n",
    "    print(\"Me gusta la\", fruta)\n",
    "```\n",
    "\n",
    "---\n",
    "\n",
    "### ✍️ **Modificar elementos:**\n",
    "\n",
    "```python\n",
    "frutas[1] = \"kiwi\"\n",
    "print(frutas)  # ['manzana', 'kiwi', 'pera']\n",
    "```\n",
    "\n",
    "---\n",
    "\n",
    "### ➕ **Agregar elementos:**\n",
    "\n",
    "```python\n",
    "frutas.append(\"sandía\")  # Agrega al final\n",
    "print(frutas)\n",
    "```\n",
    "\n",
    "---\n",
    "\n",
    "### ➖ **Eliminar elementos:**\n",
    "\n",
    "```python\n",
    "frutas.remove(\"pera\")  # Elimina por valor\n",
    "del frutas[0]          # Elimina por índice\n",
    "```\n",
    "\n",
    "---\n",
    "\n",
    "## 📦 **Agrupaciones de objetos**\n",
    "\n",
    "Podés tener listas de listas, diccionarios en listas, ¡o cualquier mezcla!\n",
    "\n",
    "```python\n",
    "# Lista de listas\n",
    "matriz = [[1, 2], [3, 4]]\n",
    "\n",
    "# Lista de diccionarios\n",
    "personas = [\n",
    "    {\"nombre\": \"Ana\", \"edad\": 25},\n",
    "    {\"nombre\": \"Juan\", \"edad\": 30}\n",
    "]\n"
   ]
  },
  {
   "cell_type": "code",
   "execution_count": 50,
   "id": "b0642427",
   "metadata": {},
   "outputs": [
    {
     "name": "stdout",
     "output_type": "stream",
     "text": [
      "manzana\n",
      "['manzana', 'pera', 'naranja', 'limon', 'fresa']\n",
      "['durazno', 'pera', 'naranja', 'limon', 'fresa']\n"
     ]
    }
   ],
   "source": [
    "lista_frutas = [\"manzana\", \"pera\", \"naranja\", \"limon\"]\n",
    "\n",
    "#diferentes tipos de datos\n",
    "lista_booleanos = [True, False, True, False]\n",
    "lista_numeros = [1, 2, 3, 4, 5]\n",
    "\n",
    "print(lista_frutas[0])\n",
    "\n",
    "#agregar elementos\n",
    "lista_frutas.append(\"fresa\")\n",
    "print(lista_frutas)\n",
    "\n",
    "#modificar elementos\n",
    "lista_frutas[0] = \"durazno\"\n",
    "print(lista_frutas)\n",
    "\n",
    "#borrar elementos\n",
    "lista_frutas.pop(0)\n",
    "print(lista_frutas)\n",
    "\n",
    "#borrar elemento especifico\n",
    "lista_frutas.remove(\"naranja\")\n",
    "\n",
    "#contar elementos\n",
    "print(len(lista_frutas))\n"
   ]
  },
  {
   "cell_type": "markdown",
   "id": "d45169d9",
   "metadata": {},
   "source": [
    "### Challenge 🤺 - 20m\n",
    "\n",
    "Crear una lista de 5 elementos. Luego, seguir los siguientes pasos.\n",
    "\n",
    "- Agregar un elemento al final de la lista.\n",
    "\n",
    "- Modificar el segundo elemento.\n",
    "\n",
    "- Eliminar el tercer elemento."
   ]
  },
  {
   "cell_type": "code",
   "execution_count": 52,
   "id": "044c59bb",
   "metadata": {},
   "outputs": [
    {
     "name": "stdout",
     "output_type": "stream",
     "text": [
      "['manzana', 'pera', 'naranja', 'limon', 'sandia', 'fresa']\n",
      "['manzana', 'durazno', 'naranja', 'limon', 'sandia', 'fresa']\n",
      "['manzana', 'durazno', 'limon', 'sandia', 'fresa']\n"
     ]
    }
   ],
   "source": [
    "#crear una lista \n",
    "lista_frutas = [\"manzana\", \"pera\", \"naranja\", \"limon\",\"sandia\"]\n",
    "\n",
    "#agregar elementos al final de la lista\n",
    "lista_frutas.append(\"fresa\")\n",
    "print(lista_frutas)\n",
    "\n",
    "#Modificar el segundo elemento de la lista\n",
    "lista_frutas[1] = \"durazno\"\n",
    "print(lista_frutas)\n",
    "\n",
    "#Eliminar el tercer elemento de la lista\n",
    "lista_frutas.pop(2)\n",
    "print(lista_frutas)\n"
   ]
  },
  {
   "cell_type": "markdown",
   "id": "a475a875",
   "metadata": {},
   "source": [
    "\n",
    "\n",
    "## 🔁 **Bucle `for` en Python**\n",
    "\n",
    "### 📘 **¿Qué es?**\n",
    "\n",
    "El bucle `for` en Python se usa para **recorrer** una secuencia (como una lista, cadena, rango, etc.) y ejecutar un bloque de código por **cada elemento** de esa secuencia.\n",
    "\n",
    "---\n",
    "\n",
    "### ✅ **Sintaxis básica:**\n",
    "\n",
    "```python\n",
    "for variable in secuencia:\n",
    "    # código que se ejecuta en cada vuelta\n",
    "```\n",
    "\n",
    "---\n",
    "\n",
    "## 🧪 **Ejemplos**\n",
    "\n",
    "---\n",
    "\n",
    "### 🔹 Recorrer una lista\n",
    "\n",
    "```python\n",
    "frutas = [\"manzana\", \"banana\", \"naranja\"]\n",
    "\n",
    "for fruta in frutas:\n",
    "    print(\"Me gusta la\", fruta)\n",
    "```\n",
    "\n",
    "🔸 *Salida:*\n",
    "```\n",
    "Me gusta la manzana  \n",
    "Me gusta la banana  \n",
    "Me gusta la naranja\n",
    "```\n",
    "\n",
    "---\n",
    "\n",
    "### 🔹 Recorrer un rango de números\n",
    "\n",
    "```python\n",
    "for i in range(5):\n",
    "    print(\"Número:\", i)\n",
    "```\n",
    "\n",
    "🔸 *Salida:*\n",
    "```\n",
    "Número: 0  \n",
    "Número: 1  \n",
    "Número: 2  \n",
    "Número: 3  \n",
    "Número: 4\n",
    "```\n",
    "\n",
    "---\n",
    "\n",
    "### 🔹 Recorrer una cadena de texto\n",
    "\n",
    "```python\n",
    "for letra in \"Python\":\n",
    "    print(letra)\n",
    "```\n",
    "\n",
    "🔸 *Salida:*\n",
    "```\n",
    "P  \n",
    "y  \n",
    "t  \n",
    "h  \n",
    "o  \n",
    "n\n",
    "```\n",
    "\n",
    "---\n",
    "\n",
    "### 🔹 Con `range(inicio, fin, paso)`\n",
    "\n",
    "```python\n",
    "for numero in range(1, 10, 2):\n",
    "    print(numero)\n",
    "```\n",
    "\n",
    "🔸 *Salida:*  \n",
    "1  \n",
    "3  \n",
    "5  \n",
    "7  \n",
    "9\n",
    "\n",
    "---\n",
    "\n",
    "### 💡 Tip: podés usar `break` para salir del bucle, o `continue` para saltarte una vuelta:\n",
    "\n",
    "```python\n",
    "for numero in range(5):\n",
    "    if numero == 3:\n",
    "        break\n",
    "    print(\"Número:\", numero)\n"
   ]
  },
  {
   "cell_type": "code",
   "execution_count": 53,
   "id": "e4ea22a7",
   "metadata": {},
   "outputs": [
    {
     "name": "stdout",
     "output_type": "stream",
     "text": [
      "1\n",
      "2\n",
      "3\n",
      "4\n",
      "5\n",
      "6\n",
      "7\n"
     ]
    }
   ],
   "source": [
    "dias_de_la_semana = [1,2,3,4,5,6,7]\n",
    "\n",
    "for i in dias_de_la_semana:\n",
    "    print(i)"
   ]
  },
  {
   "cell_type": "code",
   "execution_count": 54,
   "id": "25053f65",
   "metadata": {},
   "outputs": [
    {
     "name": "stdout",
     "output_type": "stream",
     "text": [
      "Hola buen dia\n",
      "Hola buen dia\n",
      "Hola buen dia\n",
      "Hola buen dia\n",
      "Hola buen dia\n"
     ]
    }
   ],
   "source": [
    "for i in range(5):\n",
    "    print(\"Hola buen dia\")"
   ]
  },
  {
   "cell_type": "code",
   "execution_count": 56,
   "id": "8d0b8293",
   "metadata": {},
   "outputs": [
    {
     "name": "stdout",
     "output_type": "stream",
     "text": [
      "2\n",
      "4\n",
      "6\n",
      "8\n",
      "1\n",
      "3\n",
      "5\n",
      "7\n",
      "9\n"
     ]
    }
   ],
   "source": [
    "#numeros pares\n",
    "numero = [1,2,3,4,5,6,7,8,9,10]\n",
    "for numero in range(2,10,2):\n",
    "    print(numero)\n",
    "    \n",
    "#numeros impares\n",
    "for numero in range(1,10,2):\n",
    "    print(numero)"
   ]
  },
  {
   "cell_type": "markdown",
   "id": "0e620418",
   "metadata": {},
   "source": [
    "### Challenge 🤺 - 20m\n",
    "\n",
    "Escribir un programa que itere en un rango de 10 veces. Por cada iteracion multiplicar el iterador por dos e imprimir el resultado."
   ]
  },
  {
   "cell_type": "code",
   "execution_count": 60,
   "id": "d19c2c7d",
   "metadata": {},
   "outputs": [
    {
     "name": "stdout",
     "output_type": "stream",
     "text": [
      "0\n",
      "2\n",
      "4\n",
      "6\n",
      "8\n",
      "10\n",
      "12\n",
      "14\n",
      "16\n",
      "18\n",
      "20\n"
     ]
    }
   ],
   "source": [
    "# definir el rango y el print multiplicarlo por 2\n",
    "\n",
    "# iterar el rango 10 veces, por cada iteracion multiplicar el iterador por 2 e imprimir el resultado\n",
    "for numero in range(11):\n",
    "    print(numero*2)"
   ]
  },
  {
   "cell_type": "markdown",
   "id": "7ac7fa91",
   "metadata": {},
   "source": [
    "### Challenge 🤺 - 20m\n",
    "\n",
    "Recorrer los elementos de una lista de marcas e imprimir cada marca *__solamente__* si tiene 6 letras o más."
   ]
  },
  {
   "cell_type": "code",
   "execution_count": null,
   "id": "7fd5a473",
   "metadata": {},
   "outputs": [
    {
     "name": "stdout",
     "output_type": "stream",
     "text": [
      "La marca lactolanda tiene mas de 6 caracteres\n",
      "La marca Chevrolet tiene mas de 6 caracteres\n",
      "La marca Suzuki tiene mas de 6 caracteres\n",
      "La marca Ferrari tiene mas de 6 caracteres\n",
      "La marca Porsche tiene mas de 6 caracteres\n",
      "La marca Lamborghini tiene mas de 6 caracteres\n"
     ]
    }
   ],
   "source": [
    "# Recordar usar len para contar los caracteres de una palabra en una lista\n",
    "#crear una lista de marcas\n",
    "marcas = [\"lactolanda\", \"puma\", \"nike\", \"Chevrolet\", \"Suzuki\", \"Ferrari\", \"Porsche\",  \"Lamborghini\"]\n",
    "#crear el for para recorrer la lista\n",
    "for marca in marcas:\n",
    "    # crear la condicion si la palabra tiene mas de 6 caracteres\n",
    "    if len(marca) >= 6:\n",
    "        print(f\"La marca {marca} tiene mas de 6 caracteres\")\n",
    "  "
   ]
  },
  {
   "cell_type": "markdown",
   "id": "425a572e",
   "metadata": {},
   "source": [
    "### Challenge 🤺 - 15m\n",
    "\n",
    "Solicitar al usuario que ingrese una frase.\n",
    "\n",
    "Imprimir un mensaje cada vez que se encuentre una letra \"o\"."
   ]
  },
  {
   "cell_type": "code",
   "execution_count": 64,
   "id": "c87e7044",
   "metadata": {},
   "outputs": [
    {
     "name": "stdout",
     "output_type": "stream",
     "text": [
      "Hey, una letra o!!!!\n",
      "Hey, una letra o!!!!\n"
     ]
    }
   ],
   "source": [
    "# Pedir al usuario que ingrese una frase\n",
    "frase = input(\"Ingrese una frase: \")\n",
    "# imprimir un mensaje cada vez que se encuentr una letra \"o\" en la frase\n",
    "for letra in frase:\n",
    "    if letra == \"o\":\n",
    "        print(\"Hey, una letra o!!!!\")"
   ]
  }
 ],
 "metadata": {
  "kernelspec": {
   "display_name": "Python 3",
   "language": "python",
   "name": "python3"
  },
  "language_info": {
   "codemirror_mode": {
    "name": "ipython",
    "version": 3
   },
   "file_extension": ".py",
   "mimetype": "text/x-python",
   "name": "python",
   "nbconvert_exporter": "python",
   "pygments_lexer": "ipython3",
   "version": "3.11.9"
  }
 },
 "nbformat": 4,
 "nbformat_minor": 5
}
