{
 "cells": [
  {
   "cell_type": "markdown",
   "id": "882d2484",
   "metadata": {},
   "source": [
    "# Dia 3,  proyecto de la palabra del dia \n",
    "\n",
    "## Repaso de lo aprendido"
   ]
  },
  {
   "cell_type": "code",
   "execution_count": null,
   "id": "7bb386b3",
   "metadata": {},
   "outputs": [
    {
     "name": "stdout",
     "output_type": "stream",
     "text": [
      "hola mundo\n"
     ]
    }
   ],
   "source": [
    "# funcion hola mundo\n",
    "def saludo():\n",
    "    print(\"hola mundo\")\n",
    "\n",
    "saludo()"
   ]
  },
  {
   "cell_type": "markdown",
   "id": "ce5fb69b",
   "metadata": {},
   "source": [
    "## Challenge 1 🤺 - 10m\n",
    "\n",
    "Crear una función que imprima la variable palabra."
   ]
  },
  {
   "cell_type": "code",
   "execution_count": null,
   "id": "b31bbb71",
   "metadata": {},
   "outputs": [
    {
     "name": "stdout",
     "output_type": "stream",
     "text": [
      "Jaja , hola\n"
     ]
    }
   ],
   "source": [
    "# crear la variable\n",
    "#crear la funcion\n",
    "# llamar a la funcion\n",
    "palabra= \"Jaja , hola\"\n",
    "\n",
    "def llamada():\n",
    "    print(palabra)\n",
    "\n",
    "llamada()"
   ]
  },
  {
   "cell_type": "code",
   "execution_count": null,
   "id": "a6b3c5a2",
   "metadata": {},
   "outputs": [
    {
     "name": "stdout",
     "output_type": "stream",
     "text": [
      "La suma de 2 y 3 es 5\n"
     ]
    }
   ],
   "source": [
    "# ejemplo parametros y argumentos\n",
    "def sumar_numeros(numero1, numero2):\n",
    "    resultado= numero1 + numero2\n",
    "    print(f\"La suma de {numero1} y {numero2} es {resultado}\")\n",
    "\n",
    "sumar_numeros(2,3)\n",
    "\n",
    "\n"
   ]
  },
  {
   "cell_type": "markdown",
   "id": "db31c304",
   "metadata": {},
   "source": [
    "## Challenge 2 🤺 - 20 min\n",
    "Crear una función que reciba dos letras (parámetros) y que verifique si son iguales:\n",
    "\n",
    "1. Si son iguales, imprimir \"Las letras son iguales\".\n",
    "\n",
    "2. De lo contrario, imprimir \"Las letras son diferentes\"."
   ]
  },
  {
   "cell_type": "code",
   "execution_count": 6,
   "id": "f92a8b94",
   "metadata": {},
   "outputs": [
    {
     "name": "stdout",
     "output_type": "stream",
     "text": [
      "Las letras son diferentes\n"
     ]
    }
   ],
   "source": [
    "# crear la funcion e incluirles los parametros\n",
    "# crear la condicion y finalmente llamar a las funcion\n",
    "\n",
    "def letras_recibidas(letra1, letra2):\n",
    "    if letra1 == letra2:\n",
    "        print(\"Las letras son iguales\")\n",
    "    else:\n",
    "        print(\"Las letras son diferentes\")\n",
    "        \n",
    "letras_recibidas('a', 'b')"
   ]
  },
  {
   "cell_type": "markdown",
   "id": "d8b32c82",
   "metadata": {},
   "source": [
    "\n",
    "\n",
    "## 🧠 ¿Qué es `return` en Python?\n",
    "\n",
    "La palabra clave `**return**` se usa en funciones para **devolver un valor** al lugar donde fue llamada.  \n",
    "Permite **guardar o usar** el resultado que produce la función.\n",
    "\n",
    "---\n",
    "\n",
    "### 📌 Estructura básica:\n",
    "\n",
    "```python\n",
    "def nombre_funcion():\n",
    "    return valor\n",
    "```\n",
    "\n",
    "---\n",
    "\n",
    "### ✅ Ejemplo 1: Sumar dos números\n",
    "\n",
    "```python\n",
    "def sumar(a, b):\n",
    "    resultado = a + b\n",
    "    return resultado\n",
    "\n",
    "# Usar la función\n",
    "suma = sumar(5, 3)\n",
    "print(\"La suma es:\", suma)\n",
    "```\n",
    "\n",
    "🟢 **Salida:**\n",
    "```\n",
    "La suma es: 8\n",
    "```\n",
    "\n",
    "---\n",
    "\n",
    "### ✅ Ejemplo 2: Verificar si un número es par\n",
    "\n",
    "```python\n",
    "def es_par(numero):\n",
    "    return numero % 2 == 0\n",
    "\n",
    "# Llamada\n",
    "print(es_par(4))  # True\n",
    "print(es_par(5))  # False\n",
    "```\n",
    "\n",
    "---\n",
    "\n",
    "### ✅ Ejemplo 3: Return sin guardar\n",
    "\n",
    "```python\n",
    "def saludar():\n",
    "    return \"Hola!\"\n",
    "\n",
    "print(saludar())  # Imprime directamente el valor retornado\n",
    "```\n",
    "\n",
    "---\n",
    "\n",
    "## 🤓 ¿Qué diferencia hay con `print()`?\n",
    "\n",
    "- `print()` **muestra algo en pantalla**\n",
    "- `return` **devuelve un valor** que puede usarse o guardarse\n",
    "\n"
   ]
  },
  {
   "cell_type": "code",
   "execution_count": 7,
   "id": "064a20f7",
   "metadata": {},
   "outputs": [
    {
     "data": {
      "text/plain": [
       "3"
      ]
     },
     "execution_count": 7,
     "metadata": {},
     "output_type": "execute_result"
    }
   ],
   "source": [
    "def suma(numero1, numero2):\n",
    "    resultado = numero1 + numero2\n",
    "    return resultado\n",
    "\n",
    "suma(1, 2)"
   ]
  },
  {
   "cell_type": "markdown",
   "id": "3e0fb5dc",
   "metadata": {},
   "source": [
    "## Challenge 3 🤺 - 20m\n",
    "\n",
    "Crear una función que reciba dos parámetros (una palabra y un número), y que retorne `True` si el número es igual a la cantidad de letras de la palabra. En caso contrario, que retorne `False`.\n",
    "\n",
    "Pista: `cantidad de letras de una palabra en python`"
   ]
  },
  {
   "cell_type": "code",
   "execution_count": 9,
   "id": "91b42a7f",
   "metadata": {},
   "outputs": [
    {
     "data": {
      "text/plain": [
       "True"
      ]
     },
     "execution_count": 9,
     "metadata": {},
     "output_type": "execute_result"
    }
   ],
   "source": [
    "# crear una funcion con dos parametros, una palabra y un numero\n",
    "def comprar_numero_palabras(palabra, numero):\n",
    "    if numero == len(palabra):\n",
    "        return True\n",
    "    else:\n",
    "        return False\n",
    "\n",
    "comprar_numero_palabras(\"Ali\", 3)"
   ]
  },
  {
   "cell_type": "code",
   "execution_count": 13,
   "id": "b22744e4",
   "metadata": {},
   "outputs": [
    {
     "data": {
      "text/plain": [
       "True"
      ]
     },
     "execution_count": 13,
     "metadata": {},
     "output_type": "execute_result"
    }
   ],
   "source": [
    "# otra forma de hacer\n",
    "def comparar_numero_palabra(palabra, numero):\n",
    "    return numero == len(palabra)\n",
    "\n",
    "comparar_numero_palabra('hola', 4)\n"
   ]
  },
  {
   "cell_type": "markdown",
   "id": "f81206b1",
   "metadata": {},
   "source": [
    "# Uso de la funcion list\n",
    "\n",
    "- usar la funcion list para contar los elementos de una lista\n",
    "\n"
   ]
  },
  {
   "cell_type": "markdown",
   "id": "3c66ae40",
   "metadata": {},
   "source": [
    "## Challenge 5 🤺 - 25m\n",
    "\n",
    "Pedir al usuario que ingrese 1 palabra, luego convertir esa palabra a una lista con sus caracteres con `list()`. Agregar esa lista de caracteres a una lista llamada `palabras_ingresadas`. Repetir el proceso 3 veces. Cada vez que se agregue una lista de caracteres, imprimir la lista `palabras_ingresadas`.\n",
    "\n",
    "\n",
    "Ejemplo del resultado esperado:\n",
    "\n",
    "```[['c', 'i', 'e', 'l', 'o']]``` # Al ingresar la primera palabra\n",
    "\n",
    "```[['c', 'i', 'e', 'l', 'o'], ['c', 'a', 'l', 'o', 'r']]``` # Al ingresar la segunda palabra\n",
    "\n",
    "```[['c', 'i', 'e', 'l', 'o'], ['c', 'a', 'l', 'o', 'r'], ['n', 'u', 'b', 'e', 's']]``` # Al ingresar la tercera palabra"
   ]
  },
  {
   "cell_type": "code",
   "execution_count": 17,
   "id": "33e0d6f8",
   "metadata": {},
   "outputs": [
    {
     "name": "stdout",
     "output_type": "stream",
     "text": [
      "[['n', 'u', 'b', 'e'], ['c', 'i', 'e', 'l', 'o'], ['c', 'a', 'l', 'o', 'r']]\n"
     ]
    }
   ],
   "source": [
    "# pedir al usuario que ingrese una palabra\n",
    "usuario_palabra = input(\"Ingrese una palabra: \")\n",
    "\n",
    "# convertir la palabra en una lista con list()\n",
    "lista_de_la_palabre_usuario = list(usuario_palabra)\n",
    "\n",
    "# Afregar esa lista a otra lista llamada palabras_ingresadas\n",
    "palabras_ingresadas = [lista_de_la_palabre_usuario]\n",
    "\n",
    "# Repetir el proceso 3 veces, cada que se agregue una lista de caracteres, imprimir palabras_ingresadas\n",
    "for i in range(2):\n",
    "    palabras_ingresadas.append(list(input(\"Ingrese una palabra: \")))\n",
    "\n",
    "print(palabras_ingresadas)\n",
    "\n",
    "\n"
   ]
  },
  {
   "cell_type": "code",
   "execution_count": 18,
   "id": "d20e655b",
   "metadata": {},
   "outputs": [
    {
     "name": "stdout",
     "output_type": "stream",
     "text": [
      "[['n', 'u', 'b', 'e']]\n",
      "[['n', 'u', 'b', 'e'], ['c', 'a', 'l', 'o', 'r']]\n",
      "[['n', 'u', 'b', 'e'], ['c', 'a', 'l', 'o', 'r'], ['i', 'n', 'g', 'r', 'e', 's', 'o']]\n"
     ]
    }
   ],
   "source": [
    "# otra forma de hacer\n",
    "palabras_ingresadas= []\n",
    "\n",
    "for i in range(3):\n",
    "    palabra= input(\"Ingrese una palabra: \")\n",
    "    lista_caracteres= list(palabra)\n",
    "    palabras_ingresadas.append(lista_caracteres)\n",
    "    print(palabras_ingresadas)"
   ]
  },
  {
   "cell_type": "code",
   "execution_count": 31,
   "id": "4b724ba2",
   "metadata": {},
   "outputs": [],
   "source": [
    "def obtener_fila_verificada(palabra_a_encontrar, palabra_ingresada):\n",
    "    cantidad_de_letras_de_palabras_a_encontrar = 5\n",
    "    lista_letras_verificadas = []\n",
    "\n",
    "    for posicion in range(cantidad_de_letras_de_palabras_a_encontrar):\n",
    "        las_letras_son_iguales = palabra_a_encontrar[posicion] == palabra_ingresada[posicion]\n",
    "        la_letra_existe_en_la_palabra = palabra_ingresada[posicion] in palabra_a_encontrar\n",
    "\n",
    "        if las_letras_son_iguales:\n",
    "            lista_letras_verificadas.append(\"[\" + palabra_ingresada[posicion] + \"]\")\n",
    "        elif la_letra_existe_en_la_palabra:\n",
    "            lista_letras_verificadas.append(\"(\" + palabra_ingresada[posicion] + \")\")\n",
    "        else:\n",
    "            lista_letras_verificadas.append(palabra_ingresada[posicion])\n",
    "\n",
    "    return lista_letras_verificadas\n",
    "\n",
    "\n",
    "\n",
    "\n",
    "    \n",
    "    "
   ]
  },
  {
   "cell_type": "code",
   "execution_count": 34,
   "id": "4b5ce1ab",
   "metadata": {},
   "outputs": [
    {
     "name": "stdout",
     "output_type": "stream",
     "text": [
      "['[h]', '[u]', '[e]', '[v]', 'a']\n"
     ]
    }
   ],
   "source": [
    "# --- Prueba ---\n",
    "palabra_a_encontrar = \"huevo\"\n",
    "palabra_ingresada = input(\"Ingrese la palabra de 5 letras: \")\n",
    "linea_verificada = obtener_fila_verificada(palabra_a_encontrar, palabra_ingresada)\n",
    "print(linea_verificada)\n"
   ]
  },
  {
   "cell_type": "markdown",
   "id": "08e5396a",
   "metadata": {},
   "source": [
    "## Challenge 6 🤺 - 25m\n",
    "\n",
    "Dada la lista de ejemplo: \n",
    "\n",
    "lista = [['h', 'o', 'l', 'i', 's'], ['h', 'e', 'l', 'l', 'o'], ['h', 'a', 'l', 'l', 'o']]\n",
    "\n",
    "Crear una función que imprima una grilla (lista de listas), una línea por cada lista dentro de la lista principal.\n",
    "\n",
    "Ejemplo del resultado esperado:\n",
    "\n",
    "```\n",
    "['h', 'o', 'l', 'i', 's']\n",
    "['h', 'e', 'l', 'l', 'o']\n",
    "['h', 'a', 'l', 'l', 'o']\n",
    "```"
   ]
  },
  {
   "cell_type": "code",
   "execution_count": 25,
   "id": "96afbedd",
   "metadata": {},
   "outputs": [
    {
     "name": "stdout",
     "output_type": "stream",
     "text": [
      "['h', 'o', 'l', 'i', 's']\n",
      "['h', 'e', 'l', 'l', 'o']\n",
      "['h', 'a', 'l', 'l', 'o']\n"
     ]
    }
   ],
   "source": [
    "#Crear la lista lista = [['h', 'o', 'l', 'i', 's'], ['h', 'e', 'l', 'l', 'o'], ['h', 'a', 'l', 'l', 'o']]\n",
    "lista = [['h', 'o', 'l', 'i', 's'], ['h', 'e', 'l', 'l', 'o'], ['h', 'a', 'l', 'l', 'o']]\n",
    "\n",
    "#crear una funcion que imprima una grilla de la lista tres veces\n",
    "def imprimir_lista():\n",
    "    print(lista[0])\n",
    "    print(lista[1])\n",
    "    print(lista[2])\n",
    "\n",
    "imprimir_lista()\n",
    "    \n",
    "   \n",
    "\n"
   ]
  },
  {
   "cell_type": "code",
   "execution_count": null,
   "id": "e6cbce75",
   "metadata": {},
   "outputs": [
    {
     "name": "stdout",
     "output_type": "stream",
     "text": [
      "['h', 'o', 'l', 'i', 's']\n",
      "['h', 'e', 'l', 'l', 'o']\n",
      "['h', 'a', 'l', 'l', 'o']\n"
     ]
    }
   ],
   "source": [
    "#otra forma de hacer el ejercicio\n",
    "\n",
    "lista = [['h', 'o', 'l', 'i', 's'], ['h', 'e', 'l', 'l', 'o'], ['h', 'a', 'l', 'l', 'o']]\n",
    "\n",
    "def imprimir_lista():\n",
    "    for fila in lista:\n",
    "        print(fila)\n",
    "\n",
    "imprimir_lista()\n"
   ]
  },
  {
   "cell_type": "code",
   "execution_count": null,
   "id": "ab896f15",
   "metadata": {},
   "outputs": [],
   "source": [
    "intentos= 3\n",
    "\n",
    "while intentos > 0:\n",
    "    print(f\"te quedan {intentos} intentos\")\n",
    "    palabra= input(\"Ingrese la palabra: \")\n",
    "    intentos= intentos-1\n",
    "\n",
    "print(\"te quedaste sin intentos\")"
   ]
  },
  {
   "cell_type": "markdown",
   "id": "45afcca4",
   "metadata": {},
   "source": [
    "- tambien quiero implementar este contador, como un contador de intentos que cuando se acabe, entonces el juego acaba tambien"
   ]
  }
 ],
 "metadata": {
  "kernelspec": {
   "display_name": "Python 3",
   "language": "python",
   "name": "python3"
  },
  "language_info": {
   "codemirror_mode": {
    "name": "ipython",
    "version": 3
   },
   "file_extension": ".py",
   "mimetype": "text/x-python",
   "name": "python",
   "nbconvert_exporter": "python",
   "pygments_lexer": "ipython3",
   "version": "3.11.9"
  }
 },
 "nbformat": 4,
 "nbformat_minor": 5
}
